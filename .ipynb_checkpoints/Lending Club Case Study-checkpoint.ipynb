{
 "cells": [
  {
   "cell_type": "code",
   "execution_count": 63,
   "id": "1534a60c",
   "metadata": {},
   "outputs": [],
   "source": [
    "# Importing all libraries\n",
    "import pandas as pd\n",
    "import numpy as np\n",
    "import matplotlib.pyplot as plt\n",
    "import seaborn as sns\n",
    "\n",
    "# set it to convert scientific values\n",
    "pd.options.display.float_format = '{:.2f}'.format \n",
    "\n",
    "# Regular expressions for string manipulation\n",
    "import re\n",
    "\n",
    "# Ignore warnings due to version problems\n",
    "import warnings\n",
    "warnings.filterwarnings('ignore')"
   ]
  },
  {
   "cell_type": "code",
   "execution_count": 64,
   "id": "f0c49cfa",
   "metadata": {},
   "outputs": [
    {
     "name": "stdout",
     "output_type": "stream",
     "text": [
      "(39717, 111)\n",
      "<class 'pandas.core.frame.DataFrame'>\n",
      "RangeIndex: 39717 entries, 0 to 39716\n",
      "Columns: 111 entries, id to total_il_high_credit_limit\n",
      "dtypes: object(111)\n",
      "memory usage: 33.6+ MB\n",
      "None\n"
     ]
    }
   ],
   "source": [
    "# Read CSV file and check it's attributes before proceeding further.\n",
    "# Reading CSV file with dtype object. I will draw correlation among few variables not all so when it needs i will just convert \n",
    "# those as per my need for better visibility. So many variables in correlation creates confusion when they don't add much value.\n",
    "\n",
    "loan_data = pd.read_csv(r'C:\\Users\\debaj\\Documents\\UpGrad\\Lending Club Case Study\\loan.csv',dtype=object)\n",
    "\n",
    "# Print loan data attributes\n",
    "print(loan_data.shape)\n",
    "print(loan_data.info())"
   ]
  },
  {
   "cell_type": "code",
   "execution_count": 65,
   "id": "fc77844d",
   "metadata": {},
   "outputs": [
    {
     "name": "stdout",
     "output_type": "stream",
     "text": [
      "39717\n"
     ]
    },
    {
     "data": {
      "text/html": [
       "<div>\n",
       "<style scoped>\n",
       "    .dataframe tbody tr th:only-of-type {\n",
       "        vertical-align: middle;\n",
       "    }\n",
       "\n",
       "    .dataframe tbody tr th {\n",
       "        vertical-align: top;\n",
       "    }\n",
       "\n",
       "    .dataframe thead th {\n",
       "        text-align: right;\n",
       "    }\n",
       "</style>\n",
       "<table border=\"1\" class=\"dataframe\">\n",
       "  <thead>\n",
       "    <tr style=\"text-align: right;\">\n",
       "      <th></th>\n",
       "      <th>id</th>\n",
       "      <th>member_id</th>\n",
       "      <th>loan_amnt</th>\n",
       "      <th>funded_amnt</th>\n",
       "      <th>funded_amnt_inv</th>\n",
       "      <th>term</th>\n",
       "      <th>int_rate</th>\n",
       "      <th>installment</th>\n",
       "      <th>grade</th>\n",
       "      <th>sub_grade</th>\n",
       "      <th>...</th>\n",
       "      <th>num_tl_90g_dpd_24m</th>\n",
       "      <th>num_tl_op_past_12m</th>\n",
       "      <th>pct_tl_nvr_dlq</th>\n",
       "      <th>percent_bc_gt_75</th>\n",
       "      <th>pub_rec_bankruptcies</th>\n",
       "      <th>tax_liens</th>\n",
       "      <th>tot_hi_cred_lim</th>\n",
       "      <th>total_bal_ex_mort</th>\n",
       "      <th>total_bc_limit</th>\n",
       "      <th>total_il_high_credit_limit</th>\n",
       "    </tr>\n",
       "  </thead>\n",
       "  <tbody>\n",
       "  </tbody>\n",
       "</table>\n",
       "<p>0 rows × 111 columns</p>\n",
       "</div>"
      ],
      "text/plain": [
       "Empty DataFrame\n",
       "Columns: [id, member_id, loan_amnt, funded_amnt, funded_amnt_inv, term, int_rate, installment, grade, sub_grade, emp_title, emp_length, home_ownership, annual_inc, verification_status, issue_d, loan_status, pymnt_plan, url, desc, purpose, title, zip_code, addr_state, dti, delinq_2yrs, earliest_cr_line, inq_last_6mths, mths_since_last_delinq, mths_since_last_record, open_acc, pub_rec, revol_bal, revol_util, total_acc, initial_list_status, out_prncp, out_prncp_inv, total_pymnt, total_pymnt_inv, total_rec_prncp, total_rec_int, total_rec_late_fee, recoveries, collection_recovery_fee, last_pymnt_d, last_pymnt_amnt, next_pymnt_d, last_credit_pull_d, collections_12_mths_ex_med, mths_since_last_major_derog, policy_code, application_type, annual_inc_joint, dti_joint, verification_status_joint, acc_now_delinq, tot_coll_amt, tot_cur_bal, open_acc_6m, open_il_6m, open_il_12m, open_il_24m, mths_since_rcnt_il, total_bal_il, il_util, open_rv_12m, open_rv_24m, max_bal_bc, all_util, total_rev_hi_lim, inq_fi, total_cu_tl, inq_last_12m, acc_open_past_24mths, avg_cur_bal, bc_open_to_buy, bc_util, chargeoff_within_12_mths, delinq_amnt, mo_sin_old_il_acct, mo_sin_old_rev_tl_op, mo_sin_rcnt_rev_tl_op, mo_sin_rcnt_tl, mort_acc, mths_since_recent_bc, mths_since_recent_bc_dlq, mths_since_recent_inq, mths_since_recent_revol_delinq, num_accts_ever_120_pd, num_actv_bc_tl, num_actv_rev_tl, num_bc_sats, num_bc_tl, num_il_tl, num_op_rev_tl, num_rev_accts, num_rev_tl_bal_gt_0, num_sats, num_tl_120dpd_2m, ...]\n",
       "Index: []\n",
       "\n",
       "[0 rows x 111 columns]"
      ]
     },
     "execution_count": 65,
     "metadata": {},
     "output_type": "execute_result"
    }
   ],
   "source": [
    "# Data cleansing\n",
    "# Step 1\n",
    "# Checking duplicate rows based on loan id as this should be unique\n",
    "\n",
    "print(loan_data.duplicated(subset=None, keep='first').count())\n",
    "dup=loan_data[loan_data.duplicated(['id'])]\n",
    "dup\n",
    "\n",
    "# Observation: No duplicate rows"
   ]
  },
  {
   "cell_type": "code",
   "execution_count": 66,
   "id": "eb3645bc",
   "metadata": {
    "scrolled": true
   },
   "outputs": [
    {
     "name": "stdout",
     "output_type": "stream",
     "text": [
      "Empty Rows:\n",
      "0\n",
      "Empty Columns:\n",
      "54\n"
     ]
    }
   ],
   "source": [
    "# sum it up to check how many rows have all missing values\n",
    "print('Empty Rows:')\n",
    "print(loan_data.isnull().all(axis=1).sum())\n",
    "# Observation: There are no empty rows in whole dataset.\n",
    "\n",
    "# sum it up to check how many columns have all missing values\n",
    "print('Empty Columns:')\n",
    "print(loan_data.isnull().all(axis=0).sum())\n",
    "# Observation: There are 54 columns with all missing values."
   ]
  },
  {
   "cell_type": "code",
   "execution_count": 67,
   "id": "fb7d79bb",
   "metadata": {},
   "outputs": [
    {
     "data": {
      "text/plain": [
       "id                                0\n",
       "member_id                         0\n",
       "loan_amnt                         0\n",
       "funded_amnt                       0\n",
       "funded_amnt_inv                   0\n",
       "                              ...  \n",
       "tax_liens                        39\n",
       "tot_hi_cred_lim               39717\n",
       "total_bal_ex_mort             39717\n",
       "total_bc_limit                39717\n",
       "total_il_high_credit_limit    39717\n",
       "Length: 111, dtype: int64"
      ]
     },
     "execution_count": 67,
     "metadata": {},
     "output_type": "execute_result"
    }
   ],
   "source": [
    "# Finding columns with null values\n",
    "\n",
    "loan_data.isnull().sum()"
   ]
  },
  {
   "cell_type": "code",
   "execution_count": 68,
   "id": "1db3c9ec",
   "metadata": {},
   "outputs": [],
   "source": [
    "# Dropping columns with all null values\n",
    "\n",
    "loan_data.drop(loan_data.iloc[:, 53:105], inplace = True, axis = 1) "
   ]
  },
  {
   "cell_type": "code",
   "execution_count": 69,
   "id": "6eddba1d",
   "metadata": {
    "scrolled": false
   },
   "outputs": [
    {
     "data": {
      "text/plain": [
       "(39717, 45)"
      ]
     },
     "execution_count": 69,
     "metadata": {},
     "output_type": "execute_result"
    }
   ],
   "source": [
    "# Drop additional columns as these are mostly nulls\n",
    "\n",
    "columns_drop_list = [\"desc\",\"mths_since_last_delinq\",\"mths_since_last_record\",\"next_pymnt_d\",\"tot_hi_cred_lim\",\"mths_since_last_major_derog\",\"total_bal_ex_mort\",\"total_bc_limit\",\"total_il_high_credit_limit\",\"member_id\",\"url\",\"emp_title\",\"zip_code\",\"tax_liens\"]\n",
    "loan_data.drop(labels = columns_drop_list, axis =1, inplace=True)\n",
    "\n",
    "loan_data.shape\n",
    "# Observation: Columns that are not required for analysis are dropped"
   ]
  },
  {
   "cell_type": "code",
   "execution_count": 70,
   "id": "694cfb77",
   "metadata": {
    "scrolled": true
   },
   "outputs": [
    {
     "data": {
      "text/plain": [
       "0        10\n",
       "1         1\n",
       "2        10\n",
       "3        10\n",
       "4         1\n",
       "         ..\n",
       "39712     4\n",
       "39713     3\n",
       "39714     1\n",
       "39715     1\n",
       "39716     1\n",
       "Name: emp_length, Length: 39717, dtype: object"
      ]
     },
     "execution_count": 70,
     "metadata": {},
     "output_type": "execute_result"
    }
   ],
   "source": [
    "# Formatting employment length column to have only numbers. Using regex to extract only the digit from the column\n",
    "\n",
    "loan_data.emp_length.fillna('0',inplace=True)\n",
    "loan_data['emp_length']=loan_data.emp_length.str.extract('(\\d+)')\n",
    "loan_data['emp_length']\n",
    "# Employment length is formatted"
   ]
  },
  {
   "cell_type": "code",
   "execution_count": 71,
   "id": "ce838df6",
   "metadata": {},
   "outputs": [
    {
     "data": {
      "text/plain": [
       "0        10.65\n",
       "1        15.27\n",
       "2        15.96\n",
       "3        13.49\n",
       "4        12.69\n",
       "         ...  \n",
       "39712     8.07\n",
       "39713    10.28\n",
       "39714     8.07\n",
       "39715     7.43\n",
       "39716    13.75\n",
       "Name: int_rate, Length: 39717, dtype: object"
      ]
     },
     "execution_count": 71,
     "metadata": {},
     "output_type": "execute_result"
    }
   ],
   "source": [
    "# Removing % symbol from intrest rate column so that it can be used in calculations\n",
    "loan_data['int_rate'] = loan_data['int_rate'].str.rstrip('%')\n",
    "\n",
    "loan_data['int_rate']"
   ]
  },
  {
   "cell_type": "code",
   "execution_count": 72,
   "id": "f30fadd6",
   "metadata": {},
   "outputs": [],
   "source": [
    "# Converting amount columns to numeric data type\n",
    "\n",
    "cols1 = ['loan_amnt','funded_amnt','int_rate','funded_amnt_inv','installment','annual_inc','dti','emp_length','total_pymnt']\n",
    "loan_data[cols1] = loan_data[cols1].apply(pd.to_numeric)"
   ]
  },
  {
   "cell_type": "code",
   "execution_count": 74,
   "id": "6e8402ad",
   "metadata": {},
   "outputs": [
    {
     "data": {
      "text/plain": [
       "debt_consolidation   46.93\n",
       "credit_card          12.92\n",
       "other                10.05\n",
       "home_improvement      7.49\n",
       "major_purchase        5.51\n",
       "small_business        4.60\n",
       "car                   3.90\n",
       "wedding               2.38\n",
       "medical               1.74\n",
       "moving                1.47\n",
       "vacation              0.96\n",
       "house                 0.96\n",
       "educational           0.82\n",
       "renewable_energy      0.26\n",
       "Name: purpose, dtype: float64"
      ]
     },
     "execution_count": 74,
     "metadata": {},
     "output_type": "execute_result"
    }
   ],
   "source": [
    "# Univariate Analysis\n",
    "# Analysing purpose of loan\n",
    "\n",
    "(loan_data.purpose.value_counts()*100)/len(loan_data)\n",
    "\n",
    "# Observations\n",
    "# Most of the loans were taken for debt consolidation(47%) and Credit card bill payment"
   ]
  },
  {
   "cell_type": "code",
   "execution_count": 83,
   "id": "d4b2495d",
   "metadata": {
    "scrolled": true
   },
   "outputs": [
    {
     "data": {
      "text/plain": [
       "count   39717.00\n",
       "mean    11219.44\n",
       "std      7456.67\n",
       "min       500.00\n",
       "25%      5500.00\n",
       "50%     10000.00\n",
       "75%     15000.00\n",
       "max     35000.00\n",
       "Name: loan_amnt, dtype: float64"
      ]
     },
     "execution_count": 83,
     "metadata": {},
     "output_type": "execute_result"
    }
   ],
   "source": [
    "# Basic statistics with .describe()\n",
    "loan_data['loan_amnt'].describe()"
   ]
  },
  {
   "cell_type": "code",
   "execution_count": 84,
   "id": "b665d9bc",
   "metadata": {
    "scrolled": true
   },
   "outputs": [
    {
     "data": {
      "text/plain": [
       "<AxesSubplot:xlabel='loan_amnt'>"
      ]
     },
     "execution_count": 84,
     "metadata": {},
     "output_type": "execute_result"
    },
    {
     "data": {
      "image/png": "[encoded data removed]",
      "text/plain": [
       "<Figure size 432x288 with 1 Axes>"
      ]
     },
     "metadata": {
      "needs_background": "light"
     },
     "output_type": "display_data"
    }
   ],
   "source": [
    "sns.boxplot(loan_data.loan_amnt)"
   ]
  },
  {
   "cell_type": "code",
   "execution_count": 85,
   "id": "47aaf43f",
   "metadata": {},
   "outputs": [
    {
     "data": {
      "text/plain": [
       "count   39717.00\n",
       "mean    12153.60\n",
       "std      9042.04\n",
       "min         0.00\n",
       "25%      5576.93\n",
       "50%      9899.64\n",
       "75%     16534.43\n",
       "max     58563.68\n",
       "Name: total_pymnt, dtype: float64"
      ]
     },
     "execution_count": 85,
     "metadata": {},
     "output_type": "execute_result"
    }
   ],
   "source": [
    "loan_data.total_pymnt.describe()\n"
   ]
  },
  {
   "cell_type": "code",
   "execution_count": 86,
   "id": "994b3123",
   "metadata": {},
   "outputs": [
    {
     "data": {
      "text/plain": [
       "<AxesSubplot:xlabel='total_pymnt'>"
      ]
     },
     "execution_count": 86,
     "metadata": {},
     "output_type": "execute_result"
    },
    {
     "data": {
      "image/png": "[encoded data removed]",
      "text/plain": [
       "<Figure size 432x288 with 1 Axes>"
      ]
     },
     "metadata": {
      "needs_background": "light"
     },
     "output_type": "display_data"
    }
   ],
   "source": [
    "sns.boxplot(loan_data.total_pymnt)"
   ]
  },
  {
   "cell_type": "code",
   "execution_count": 87,
   "id": "240e7a5f",
   "metadata": {},
   "outputs": [
    {
     "name": "stdout",
     "output_type": "stream",
     "text": [
      "Before Removal of Outliers :\n",
      "\n",
      "count     39717.00\n",
      "mean      68968.93\n",
      "std       63793.77\n",
      "min        4000.00\n",
      "25%       40404.00\n",
      "50%       59000.00\n",
      "75%       82300.00\n",
      "max     6000000.00\n",
      "Name: annual_inc, dtype: float64\n",
      "After Removal of Outliers :\n",
      "count    39319.00\n",
      "mean     65524.22\n",
      "std      35215.89\n",
      "min       4000.00\n",
      "25%      40000.00\n",
      "50%      58000.00\n",
      "75%      81000.00\n",
      "max     234996.00\n",
      "Name: annual_inc, dtype: float64\n"
     ]
    }
   ],
   "source": [
    "# Remove Outliers quantile .99 from Annual Income\n",
    "\n",
    "print('Before Removal of Outliers :\\n')\n",
    "print(loan_data['annual_inc'].describe())\n",
    "\n",
    "loan_data = loan_data[loan_data[\"annual_inc\"] < loan_data[\"annual_inc\"].quantile(0.99)]\n",
    "\n",
    "print('After Removal of Outliers :')\n",
    "print(loan_data[\"annual_inc\"].describe())\n"
   ]
  },
  {
   "cell_type": "code",
   "execution_count": 88,
   "id": "6a0a0892",
   "metadata": {},
   "outputs": [
    {
     "data": {
      "text/plain": [
       "<AxesSubplot:xlabel='annual_inc'>"
      ]
     },
     "execution_count": 88,
     "metadata": {},
     "output_type": "execute_result"
    },
    {
     "data": {
      "image/png": "[encoded data removed]",
      "text/plain": [
       "<Figure size 432x288 with 1 Axes>"
      ]
     },
     "metadata": {
      "needs_background": "light"
     },
     "output_type": "display_data"
    }
   ],
   "source": [
    "sns.boxplot(loan_data.annual_inc)"
   ]
  },
  {
   "cell_type": "code",
   "execution_count": 89,
   "id": "82309b2e",
   "metadata": {},
   "outputs": [
    {
     "data": {
      "text/plain": [
       "count   39319.00\n",
       "mean       12.01\n",
       "std         3.72\n",
       "min         5.42\n",
       "25%         9.25\n",
       "50%        11.83\n",
       "75%        14.54\n",
       "max        24.59\n",
       "Name: int_rate, dtype: float64"
      ]
     },
     "execution_count": 89,
     "metadata": {},
     "output_type": "execute_result"
    }
   ],
   "source": [
    "# Basic statistics with .describe()\n",
    "\n",
    "loan_data['int_rate'].describe()\n",
    "\n",
    "# Average intrest rate is 12 %\n",
    "# after 75% percentile interest rate zoom'ed to 25% from 15%."
   ]
  },
  {
   "cell_type": "code",
   "execution_count": 90,
   "id": "445e3cab",
   "metadata": {},
   "outputs": [
    {
     "data": {
      "text/plain": [
       "<AxesSubplot:xlabel='int_rate'>"
      ]
     },
     "execution_count": 90,
     "metadata": {},
     "output_type": "execute_result"
    },
    {
     "data": {
      "image/png": "[encoded data removed]",
      "text/plain": [
       "<Figure size 432x288 with 1 Axes>"
      ]
     },
     "metadata": {
      "needs_background": "light"
     },
     "output_type": "display_data"
    }
   ],
   "source": [
    "sns.boxplot(loan_data.int_rate)"
   ]
  },
  {
   "cell_type": "code",
   "execution_count": 91,
   "id": "2a7bd3ab",
   "metadata": {},
   "outputs": [],
   "source": [
    "# Derived columns\n",
    "# categorise loan amounts into buckets which will help in analysis further in bivariate analysis.\n",
    "loan_data['loan_amnt_cats'] = pd.cut(loan_data['loan_amnt'], [0, 7000, 14000, 21000, 28000, 35000], labels=['0-7000', '7000-14000', '14000-21000', '21000-28000', '28000 +'])\n",
    "\n",
    "# categorise annual incomes into buckets which will help in analysis further in bivariate analysis.\n",
    "loan_data['annual_inc_cats'] = pd.cut(loan_data['annual_inc'], [0, 20000, 40000, 60000, 80000,1000000], labels=['0-20000', '20000-40000', '40000-60000', '60000-80000', '80000 +'])\n",
    "\n",
    "# categorise intrest rates into buckets which will help in analysis further in bivariate analysis.\n",
    "loan_data['int_rate_cats'] = pd.cut(loan_data['int_rate'], [0, 10, 12.5, 16, 20], labels=['0-10', '10-13', '12.5-16', '16 +'])\n",
    "\n",
    "# categorise dti into buckets for bivariate analysis.\n",
    "loan_data['dti_cats'] = pd.cut(loan_data['dti'], [0, 5, 10, 15, 20, 25], labels=['0-5', '05-10', '10-15', '15-20', '25+'])"
   ]
  },
  {
   "cell_type": "code",
   "execution_count": 93,
   "id": "67e77cd3",
   "metadata": {},
   "outputs": [
    {
     "name": "stdout",
     "output_type": "stream",
     "text": [
      "(39319, 49)\n"
     ]
    },
    {
     "data": {
      "text/html": [
       "<div>\n",
       "<style scoped>\n",
       "    .dataframe tbody tr th:only-of-type {\n",
       "        vertical-align: middle;\n",
       "    }\n",
       "\n",
       "    .dataframe tbody tr th {\n",
       "        vertical-align: top;\n",
       "    }\n",
       "\n",
       "    .dataframe thead th {\n",
       "        text-align: right;\n",
       "    }\n",
       "</style>\n",
       "<table border=\"1\" class=\"dataframe\">\n",
       "  <thead>\n",
       "    <tr style=\"text-align: right;\">\n",
       "      <th></th>\n",
       "      <th>id</th>\n",
       "      <th>loan_amnt</th>\n",
       "      <th>funded_amnt</th>\n",
       "      <th>funded_amnt_inv</th>\n",
       "      <th>term</th>\n",
       "      <th>int_rate</th>\n",
       "      <th>installment</th>\n",
       "      <th>grade</th>\n",
       "      <th>sub_grade</th>\n",
       "      <th>emp_length</th>\n",
       "      <th>...</th>\n",
       "      <th>last_pymnt_amnt</th>\n",
       "      <th>last_credit_pull_d</th>\n",
       "      <th>collections_12_mths_ex_med</th>\n",
       "      <th>policy_code</th>\n",
       "      <th>application_type</th>\n",
       "      <th>pub_rec_bankruptcies</th>\n",
       "      <th>loan_amnt_cats</th>\n",
       "      <th>annual_inc_cats</th>\n",
       "      <th>int_rate_cats</th>\n",
       "      <th>dti_cats</th>\n",
       "    </tr>\n",
       "  </thead>\n",
       "  <tbody>\n",
       "    <tr>\n",
       "      <th>0</th>\n",
       "      <td>1077501</td>\n",
       "      <td>5000</td>\n",
       "      <td>5000</td>\n",
       "      <td>4975.00</td>\n",
       "      <td>36 months</td>\n",
       "      <td>10.65</td>\n",
       "      <td>162.87</td>\n",
       "      <td>B</td>\n",
       "      <td>B2</td>\n",
       "      <td>10</td>\n",
       "      <td>...</td>\n",
       "      <td>171.62</td>\n",
       "      <td>May-16</td>\n",
       "      <td>0</td>\n",
       "      <td>1</td>\n",
       "      <td>INDIVIDUAL</td>\n",
       "      <td>0</td>\n",
       "      <td>0-7000</td>\n",
       "      <td>20000-40000</td>\n",
       "      <td>10-13</td>\n",
       "      <td>NaN</td>\n",
       "    </tr>\n",
       "  </tbody>\n",
       "</table>\n",
       "<p>1 rows × 49 columns</p>\n",
       "</div>"
      ],
      "text/plain": [
       "        id  loan_amnt  funded_amnt  funded_amnt_inv        term  int_rate  \\\n",
       "0  1077501       5000         5000          4975.00   36 months     10.65   \n",
       "\n",
       "   installment grade sub_grade  emp_length  ... last_pymnt_amnt  \\\n",
       "0       162.87     B        B2          10  ...          171.62   \n",
       "\n",
       "   last_credit_pull_d collections_12_mths_ex_med policy_code application_type  \\\n",
       "0              May-16                          0           1       INDIVIDUAL   \n",
       "\n",
       "  pub_rec_bankruptcies loan_amnt_cats annual_inc_cats int_rate_cats  dti_cats  \n",
       "0                    0         0-7000     20000-40000         10-13       NaN  \n",
       "\n",
       "[1 rows x 49 columns]"
      ]
     },
     "execution_count": 93,
     "metadata": {},
     "output_type": "execute_result"
    }
   ],
   "source": [
    "# Lets take a look on shape and data\n",
    "print(loan_data.shape)\n",
    "loan_data.head(1)\n",
    "# Observation: 4 derived columns have been added"
   ]
  },
  {
   "cell_type": "code",
   "execution_count": 96,
   "id": "da4a5f19",
   "metadata": {},
   "outputs": [
    {
     "data": {
      "image/png": "[encoded data removed]",
      "text/plain": [
       "<Figure size 1080x576 with 2 Axes>"
      ]
     },
     "metadata": {},
     "output_type": "display_data"
    }
   ],
   "source": [
    "# Univariate Analysis on Loan amount-Quantitative Variables\n",
    "\n",
    "plt.figure(figsize=(15,8),facecolor='g')\n",
    "sns.set_style(\"dark\")\n",
    "# subplot 1\n",
    "plt.subplot(2, 2, 1)\n",
    "ax = sns.distplot(loan_data['loan_amnt'],rug = True)\n",
    "ax.set_title('Loan Amount - Distribution Plot',fontsize=16,color='w')\n",
    "ax.set_xlabel('Loan Amount',fontsize=14,color='w')\n",
    "# subplot 2\n",
    "plt.subplot(2, 2, 2)\n",
    "ax = sns.boxplot(y=loan_data['loan_amnt'])\n",
    "ax.set_title('Loan Amount - Box Plot',fontsize=16,color='w')\n",
    "ax.set_ylabel('Loan Amount',fontsize=14,color='w')\n",
    "plt.show()\n",
    "\n",
    "# Observation :\n",
    "# Below plots show that most of the Loan amounts are in range of 5000 - 15000"
   ]
  },
  {
   "cell_type": "code",
   "execution_count": 97,
   "id": "29a2412d",
   "metadata": {},
   "outputs": [
    {
     "data": {
      "image/png": "[encoded data removed]",
      "text/plain": [
       "<Figure size 1080x576 with 2 Axes>"
      ]
     },
     "metadata": {},
     "output_type": "display_data"
    }
   ],
   "source": [
    "# Univariate Analysis on Intrest Rate\n",
    "\n",
    "plt.figure(figsize=(15,8),facecolor='g')\n",
    "sns.set_style(\"dark\")\n",
    "# subplot 1\n",
    "plt.subplot(2, 2, 1)\n",
    "ax = sns.distplot(loan_data['int_rate'],rug = True)\n",
    "ax.set_title('Interest Rate - Distribution Plot',fontsize=16,color='w')\n",
    "ax.set_xlabel('Interest Rate',fontsize=14,color='w')\n",
    "# subplot 2\n",
    "plt.subplot(2, 2, 2)\n",
    "ax = sns.boxplot(y=loan_data['int_rate'])\n",
    "ax.set_title('Interest Rate - Box Plot',fontsize=16,color='w')\n",
    "ax.set_ylabel('Interest Rate',fontsize=14,color='w')\n",
    "plt.show()\n",
    "\n",
    "# Observations :\n",
    "# Below plots show that most of the Interest Rates on loans are in range of (10 - 15)%"
   ]
  },
  {
   "cell_type": "code",
   "execution_count": 98,
   "id": "3f1c5994",
   "metadata": {},
   "outputs": [
    {
     "data": {
      "image/png": "[encoded data removed]",
      "text/plain": [
       "<Figure size 1080x576 with 2 Axes>"
      ]
     },
     "metadata": {},
     "output_type": "display_data"
    }
   ],
   "source": [
    "# Univariate Analysis on Annual Income\n",
    "\n",
    "plt.figure(figsize=(15,8),facecolor='g')\n",
    "sns.set_style(\"dark\")\n",
    "# subplot 1\n",
    "plt.subplot(2, 2, 1)\n",
    "ax = sns.distplot(loan_data['annual_inc'],rug = True)\n",
    "ax.set_title('Annual Income - Distribution Plot',fontsize=16,color='w')\n",
    "ax.set_xlabel('Annual Income',fontsize=14,color='w')\n",
    "# subplot 2\n",
    "plt.subplot(2, 2, 2)\n",
    "plt.title('Annual Income - Box Plot')\n",
    "ax = sns.boxplot(y=loan_data['annual_inc'])\n",
    "ax.set_title('Annual Income - Box Plot',fontsize=16,color='w')\n",
    "ax.set_ylabel('Annual Income',fontsize=14,color='w')\n",
    "plt.show()\n",
    "\n",
    "# Observations :\n",
    "# Below plots show that most of the borrower's Annual incomes are in range of 40000- 80000"
   ]
  },
  {
   "cell_type": "code",
   "execution_count": 102,
   "id": "eb70e4cc",
   "metadata": {},
   "outputs": [
    {
     "data": {
      "image/png": "[encoded data removed]",
      "text/plain": [
       "<Figure size 720x576 with 1 Axes>"
      ]
     },
     "metadata": {},
     "output_type": "display_data"
    }
   ],
   "source": [
    "# Univariate Analysis - Unordered Categorical Variables - Loan Status\n",
    "\n",
    "plt.figure(figsize=(10,8),facecolor='g')\n",
    "sns.set_style(\"dark\")\n",
    "ax = sns.countplot(x=\"loan_status\",data=loan_data,palette='mako')\n",
    "ax.set_title('Loan Status',fontsize=14,color='w')\n",
    "ax.set_xlabel('Loan Status',fontsize=14,color = 'w')\n",
    "ax.set_ylabel('Loan Application Count',fontsize=14,color = 'w')            \n",
    "# To show count of values above bars\n",
    "s=loan_data['loan_status'].value_counts()\n",
    "for i, j in s.reset_index().iterrows():\n",
    "    ax.text(i, j.loan_status + 0.3 , j.loan_status, color='k')\n",
    "\n",
    "# Observations :\n",
    "# Below plot shows that close to 14% loans were charged off out of total loan issued."
   ]
  },
  {
   "cell_type": "code",
   "execution_count": null,
   "id": "e48930ab",
   "metadata": {},
   "outputs": [],
   "source": []
  }
 ],
 "metadata": {
  "kernelspec": {
   "display_name": "Python 3 (ipykernel)",
   "language": "python",
   "name": "python3"
  },
  "language_info": {
   "codemirror_mode": {
    "name": "ipython",
    "version": 3
   },
   "file_extension": ".py",
   "mimetype": "text/x-python",
   "name": "python",
   "nbconvert_exporter": "python",
   "pygments_lexer": "ipython3",
   "version": "3.9.7"
  }
 },
 "nbformat": 4,
 "nbformat_minor": 5
}
